{
 "cells": [
  {
   "cell_type": "markdown",
   "id": "7249dc5a-399c-4c10-822f-bf2ff5013e6e",
   "metadata": {},
   "source": [
    "Q1. List any five functions of the pandas library with execution."
   ]
  },
  {
   "cell_type": "code",
   "execution_count": 6,
   "id": "bbf927a8-f486-4b24-82e3-ae87ec067c09",
   "metadata": {},
   "outputs": [
    {
     "name": "stderr",
     "output_type": "stream",
     "text": [
      "/tmp/ipykernel_77/728704590.py:20: FutureWarning: The default value of numeric_only in DataFrame.corr is deprecated. In a future version, it will default to False. Select only valid columns or specify the value of numeric_only to silence this warning.\n",
      "  correlation_matrix = df.corr()\n"
     ]
    },
    {
     "data": {
      "text/html": [
       "<div>\n",
       "<style scoped>\n",
       "    .dataframe tbody tr th:only-of-type {\n",
       "        vertical-align: middle;\n",
       "    }\n",
       "\n",
       "    .dataframe tbody tr th {\n",
       "        vertical-align: top;\n",
       "    }\n",
       "\n",
       "    .dataframe thead th {\n",
       "        text-align: right;\n",
       "    }\n",
       "</style>\n",
       "<table border=\"1\" class=\"dataframe\">\n",
       "  <thead>\n",
       "    <tr style=\"text-align: right;\">\n",
       "      <th></th>\n",
       "      <th>OPEN</th>\n",
       "      <th>HIGH</th>\n",
       "      <th>LOW</th>\n",
       "      <th>PREV. CLOSE</th>\n",
       "      <th>ltp</th>\n",
       "      <th>close</th>\n",
       "      <th>vwap</th>\n",
       "      <th>52W H</th>\n",
       "      <th>52W L</th>\n",
       "    </tr>\n",
       "  </thead>\n",
       "  <tbody>\n",
       "    <tr>\n",
       "      <th>OPEN</th>\n",
       "      <td>1.000000</td>\n",
       "      <td>0.997842</td>\n",
       "      <td>0.998234</td>\n",
       "      <td>0.998679</td>\n",
       "      <td>0.995941</td>\n",
       "      <td>0.995841</td>\n",
       "      <td>0.997677</td>\n",
       "      <td>0.781992</td>\n",
       "      <td>0.244586</td>\n",
       "    </tr>\n",
       "    <tr>\n",
       "      <th>HIGH</th>\n",
       "      <td>0.997842</td>\n",
       "      <td>1.000000</td>\n",
       "      <td>0.998171</td>\n",
       "      <td>0.996177</td>\n",
       "      <td>0.998536</td>\n",
       "      <td>0.998510</td>\n",
       "      <td>0.999438</td>\n",
       "      <td>0.780321</td>\n",
       "      <td>0.241539</td>\n",
       "    </tr>\n",
       "    <tr>\n",
       "      <th>LOW</th>\n",
       "      <td>0.998234</td>\n",
       "      <td>0.998171</td>\n",
       "      <td>1.000000</td>\n",
       "      <td>0.996788</td>\n",
       "      <td>0.998338</td>\n",
       "      <td>0.998408</td>\n",
       "      <td>0.999316</td>\n",
       "      <td>0.779070</td>\n",
       "      <td>0.246415</td>\n",
       "    </tr>\n",
       "    <tr>\n",
       "      <th>PREV. CLOSE</th>\n",
       "      <td>0.998679</td>\n",
       "      <td>0.996177</td>\n",
       "      <td>0.996788</td>\n",
       "      <td>1.000000</td>\n",
       "      <td>0.994352</td>\n",
       "      <td>0.994223</td>\n",
       "      <td>0.995923</td>\n",
       "      <td>0.779966</td>\n",
       "      <td>0.237859</td>\n",
       "    </tr>\n",
       "    <tr>\n",
       "      <th>ltp</th>\n",
       "      <td>0.995941</td>\n",
       "      <td>0.998536</td>\n",
       "      <td>0.998338</td>\n",
       "      <td>0.994352</td>\n",
       "      <td>1.000000</td>\n",
       "      <td>0.999942</td>\n",
       "      <td>0.999269</td>\n",
       "      <td>0.776120</td>\n",
       "      <td>0.245868</td>\n",
       "    </tr>\n",
       "    <tr>\n",
       "      <th>close</th>\n",
       "      <td>0.995841</td>\n",
       "      <td>0.998510</td>\n",
       "      <td>0.998408</td>\n",
       "      <td>0.994223</td>\n",
       "      <td>0.999942</td>\n",
       "      <td>1.000000</td>\n",
       "      <td>0.999329</td>\n",
       "      <td>0.774931</td>\n",
       "      <td>0.246932</td>\n",
       "    </tr>\n",
       "    <tr>\n",
       "      <th>vwap</th>\n",
       "      <td>0.997677</td>\n",
       "      <td>0.999438</td>\n",
       "      <td>0.999316</td>\n",
       "      <td>0.995923</td>\n",
       "      <td>0.999269</td>\n",
       "      <td>0.999329</td>\n",
       "      <td>1.000000</td>\n",
       "      <td>0.778135</td>\n",
       "      <td>0.245244</td>\n",
       "    </tr>\n",
       "    <tr>\n",
       "      <th>52W H</th>\n",
       "      <td>0.781992</td>\n",
       "      <td>0.780321</td>\n",
       "      <td>0.779070</td>\n",
       "      <td>0.779966</td>\n",
       "      <td>0.776120</td>\n",
       "      <td>0.774931</td>\n",
       "      <td>0.778135</td>\n",
       "      <td>1.000000</td>\n",
       "      <td>0.110475</td>\n",
       "    </tr>\n",
       "    <tr>\n",
       "      <th>52W L</th>\n",
       "      <td>0.244586</td>\n",
       "      <td>0.241539</td>\n",
       "      <td>0.246415</td>\n",
       "      <td>0.237859</td>\n",
       "      <td>0.245868</td>\n",
       "      <td>0.246932</td>\n",
       "      <td>0.245244</td>\n",
       "      <td>0.110475</td>\n",
       "      <td>1.000000</td>\n",
       "    </tr>\n",
       "  </tbody>\n",
       "</table>\n",
       "</div>"
      ],
      "text/plain": [
       "                 OPEN      HIGH       LOW   PREV. CLOSE       ltp     close   \\\n",
       "OPEN          1.000000  0.997842  0.998234      0.998679  0.995941  0.995841   \n",
       "HIGH          0.997842  1.000000  0.998171      0.996177  0.998536  0.998510   \n",
       "LOW           0.998234  0.998171  1.000000      0.996788  0.998338  0.998408   \n",
       "PREV. CLOSE   0.998679  0.996177  0.996788      1.000000  0.994352  0.994223   \n",
       "ltp           0.995941  0.998536  0.998338      0.994352  1.000000  0.999942   \n",
       "close         0.995841  0.998510  0.998408      0.994223  0.999942  1.000000   \n",
       "vwap          0.997677  0.999438  0.999316      0.995923  0.999269  0.999329   \n",
       "52W H         0.781992  0.780321  0.779070      0.779966  0.776120  0.774931   \n",
       "52W L         0.244586  0.241539  0.246415      0.237859  0.245868  0.246932   \n",
       "\n",
       "                 vwap     52W H     52W L   \n",
       "OPEN          0.997677  0.781992  0.244586  \n",
       "HIGH          0.999438  0.780321  0.241539  \n",
       "LOW           0.999316  0.779070  0.246415  \n",
       "PREV. CLOSE   0.995923  0.779966  0.237859  \n",
       "ltp           0.999269  0.776120  0.245868  \n",
       "close         0.999329  0.774931  0.246932  \n",
       "vwap          1.000000  0.778135  0.245244  \n",
       "52W H         0.778135  1.000000  0.110475  \n",
       "52W L         0.245244  0.110475  1.000000  "
      ]
     },
     "execution_count": 6,
     "metadata": {},
     "output_type": "execute_result"
    }
   ],
   "source": [
    "import pandas as pd\n",
    "\n",
    "#1 read_csv()\n",
    "df=pd.read_csv(\"TATAMOTOR.csv\")\n",
    "df.head()\n",
    "\n",
    "#2 dropna()\n",
    "clean_df=df.dropna()\n",
    "clean_df\n",
    "\n",
    "#3  groupby()\n",
    "grouped = df.groupby('OPEN ')['ltp '].mean()\n",
    "grouped\n",
    "\n",
    "#4  sort_values()\n",
    "sorted_df = df.sort_values(by='ltp ', ascending=False)\n",
    "sorted_df\n",
    "\n",
    "#5 corr()\n",
    "correlation_matrix = df.corr()\n",
    "correlation_matrix"
   ]
  },
  {
   "cell_type": "markdown",
   "id": "89e08df8-a95e-44ee-8bbf-aa8aea12cfd0",
   "metadata": {},
   "source": [
    "Q2. Given a Pandas DataFrame df with columns 'A', 'B', and 'C', write a Python function to re-index the\n",
    "DataFrame with a new index that starts from 1 and increments by 2 for each row."
   ]
  },
  {
   "cell_type": "code",
   "execution_count": 8,
   "id": "c520e738-732e-4a0f-9703-8b1e2473d486",
   "metadata": {},
   "outputs": [
    {
     "name": "stdout",
     "output_type": "stream",
     "text": [
      "        A   B   C\n",
      "index            \n",
      "1      10  40  70\n",
      "3      20  50  80\n",
      "5      30  60  90\n"
     ]
    }
   ],
   "source": [
    "import pandas as pd\n",
    "\n",
    "def reindex_dataframe(df):\n",
    "    new_index = range(1, len(df) * 2, 2)    \n",
    "    df.index = new_index    \n",
    "    df.index.name = 'index'\n",
    "data = {'A': [10, 20, 30], 'B': [40, 50, 60], 'C': [70, 80, 90]}\n",
    "df = pd.DataFrame(data)\n",
    "reindex_dataframe(df)\n",
    "print(df)"
   ]
  },
  {
   "cell_type": "markdown",
   "id": "3af62673-eff6-4105-9863-82e3ab41624a",
   "metadata": {},
   "source": [
    "Q3. You have a Pandas DataFrame df with a column named 'Values'. Write a Python function that\n",
    "iterates over the DataFrame and calculates the sum of the first three values in the 'Values' column. The\n",
    "function should print the sum to the console.For example, if the 'Values' column of df contains the values [10, 20, 30, 40, 50], your function should\n",
    "calculate and print the sum of the first three values, which is 60."
   ]
  },
  {
   "cell_type": "code",
   "execution_count": 16,
   "id": "57fcbeea-cd74-44c7-8b55-8643a6ded97b",
   "metadata": {},
   "outputs": [
    {
     "name": "stdout",
     "output_type": "stream",
     "text": [
      "Sum of the first three values: 60\n"
     ]
    }
   ],
   "source": [
    "import pandas as pd\n",
    "data = {'Values': [10, 20, 30, 40, 50]}\n",
    "df = pd.DataFrame(data)\n",
    "def calculate_sum_of_first_three_values(df):   \n",
    "    first_three_values = df['Values'][:3]\n",
    "    \n",
    "    total_sum = sum(first_three_values)\n",
    "    print(\"Sum of the first three values:\", total_sum)\n",
    "calculate_sum_of_first_three_values(df)"
   ]
  },
  {
   "cell_type": "markdown",
   "id": "175e7121-da08-43fc-89e3-1e97d4f6a7ef",
   "metadata": {},
   "source": [
    "Q4. Given a Pandas DataFrame df with a column 'Text', write a Python function to create a new column\n",
    "'Word_Count' that contains the number of words in each row of the 'Text' column."
   ]
  },
  {
   "cell_type": "code",
   "execution_count": 17,
   "id": "35d828f5-c8cc-4759-b652-964fa9abdc25",
   "metadata": {},
   "outputs": [
    {
     "name": "stdout",
     "output_type": "stream",
     "text": [
      "                           Text  Word_Count\n",
      "0    This is a sample sentence.           5\n",
      "1  Count the words in this one.           6\n",
      "2              Another example.           2\n"
     ]
    }
   ],
   "source": [
    "import pandas as pd\n",
    "data = {'Text': [\"This is a sample sentence.\", \"Count the words in this one.\", \"Another example.\"]}\n",
    "df = pd.DataFrame(data)\n",
    "def count_words(text):   \n",
    "    words = text.split()\n",
    "    return len(words)\n",
    "def add_word_count_column(df):    \n",
    "    df['Word_Count'] = df['Text'].apply(count_words)\n",
    "add_word_count_column(df)\n",
    "print(df)"
   ]
  },
  {
   "cell_type": "markdown",
   "id": "9efdc7bf-f0c3-4894-97fc-d33e906e098f",
   "metadata": {},
   "source": [
    "Q5. How are DataFrame.size() and DataFrame.shape() different?"
   ]
  },
  {
   "cell_type": "code",
   "execution_count": 19,
   "id": "01930057-ab84-4acb-b5a1-3c803c1555d1",
   "metadata": {},
   "outputs": [
    {
     "data": {
      "text/plain": [
       "'DataFrame.size returns an integer representing the total number of elements, \\nwhile DataFrame.shape returns a tuple of integers representing the number of rows and columns.'"
      ]
     },
     "execution_count": 19,
     "metadata": {},
     "output_type": "execute_result"
    }
   ],
   "source": [
    "\"\"\"DataFrame.size:\n",
    "\n",
    "DataFrame.size returns the total number of elements in the DataFrame, which is equal to the product of the number of rows and the number of columns.\n",
    "It returns an integer representing the total size of the DataFrame.\n",
    "It does not require parentheses when accessed.\"\"\"\n",
    "\n",
    "\"\"\"DataFrame.shape:\n",
    "\n",
    "DataFrame.shape returns a tuple representing the dimensions of the DataFrame, where the first element is the number of rows, and the second element is the number of columns.\n",
    "It provides a convenient way to access the number of rows and columns separately.\n",
    "It requires parentheses when accessed, as it is an attribute and not a method.\"\"\"\n",
    "\n",
    "\"\"\"DataFrame.size returns an integer representing the total number of elements, \n",
    "while DataFrame.shape returns a tuple of integers representing the number of rows and columns.\"\"\""
   ]
  },
  {
   "cell_type": "markdown",
   "id": "328bed9e-007c-4f53-9feb-8d0a9e613235",
   "metadata": {},
   "source": [
    "Q6. Which function of pandas do we use to read an excel file?"
   ]
  },
  {
   "cell_type": "code",
   "execution_count": 21,
   "id": "41d0a8f7-6f70-4857-b0bf-97855c9c0193",
   "metadata": {},
   "outputs": [
    {
     "name": "stdout",
     "output_type": "stream",
     "text": [
      "           Date  series   OPEN    HIGH     LOW   PREV. CLOSE     ltp   close   \\\n",
      "0    31-Jul-2023      EQ  640.2  645.55  635.90        635.30  644.30  644.30   \n",
      "1    28-Jul-2023      EQ  646.0  646.00  631.80        643.70  635.85  635.30   \n",
      "2    27-Jul-2023      EQ  647.0  648.45  636.75        641.10  646.00  643.70   \n",
      "3    26-Jul-2023      EQ  640.0  665.40  639.00        639.45  639.00  641.10   \n",
      "4    25-Jul-2023      EQ  636.0  642.50  633.35        629.25  641.80  639.45   \n",
      "..           ...     ...    ...     ...     ...           ...     ...     ...   \n",
      "228  29-Aug-2022      EQ  451.0  456.90  450.15        465.05  454.15  453.35   \n",
      "229  26-Aug-2022      EQ  465.0  470.45  463.95        459.20  464.45  465.05   \n",
      "230  25-Aug-2022      EQ  466.0  468.80  457.40        463.20  459.65  459.20   \n",
      "231  24-Aug-2022      EQ  459.0  464.90  457.70        460.45  463.00  463.20   \n",
      "232  23-Aug-2022      EQ  449.0  462.10  447.60        454.60  461.20  460.45   \n",
      "\n",
      "      vwap   52W H   52W L      VOLUME              VALUE  No of trades   \n",
      "0    642.98   665.4  375.20   7,502,361   4,823,837,741.50       172,623  \n",
      "1    636.11   665.4  375.20   9,299,530   5,915,566,105.65       168,753  \n",
      "2    643.67   665.4  375.20  11,696,851   7,528,922,145.50       219,355  \n",
      "3    650.43   665.4  375.20  31,673,714  20,601,675,207.20       439,456  \n",
      "4    638.97   642.5  375.20  13,988,137   8,937,951,714.05       240,989  \n",
      "..      ...     ...     ...         ...                ...           ...  \n",
      "228  453.65   536.7  286.10  11,647,725   5,283,983,489.05       197,293  \n",
      "229  466.97   536.7  268.45  11,252,560   5,254,569,001.65       127,120  \n",
      "230  463.92   536.7  268.45  11,255,809   5,221,831,280.20       114,733  \n",
      "231  461.54   536.7  268.45  12,214,113   5,637,357,620.45       131,380  \n",
      "232  455.03   536.7  268.45  17,779,238   8,090,109,755.70       201,138  \n",
      "\n",
      "[233 rows x 14 columns]\n"
     ]
    }
   ],
   "source": [
    "import pandas as pd\n",
    "df = pd.read_excel('TATAMOTOR.xlsx')\n",
    "print(df)"
   ]
  },
  {
   "cell_type": "markdown",
   "id": "da5b2d20-ae68-4bf7-8ba7-99b4b217b061",
   "metadata": {},
   "source": [
    "Q7. You have a Pandas DataFrame df that contains a column named 'Email' that contains email\n",
    "addresses in the format 'username@domain.com'. Write a Python function that creates a new column\n",
    "'Username' in df that contains only the username part of each email address.\n",
    "The username is the part of the email address that appears before the '@' symbol. For example, if the\n",
    "email address is 'john.doe@example.com', the 'Username' column should contain 'john.doe'. Your\n",
    "function should extract the username from each email address and store it in the new 'Username'\n",
    "column."
   ]
  },
  {
   "cell_type": "code",
   "execution_count": 22,
   "id": "4328fd7e-28a1-4676-be1f-3581513915da",
   "metadata": {},
   "outputs": [
    {
     "name": "stdout",
     "output_type": "stream",
     "text": [
      "                Email Username\n",
      "0     ckraj@gmail.com    ckraj\n",
      "1  ckraj1@example.com   ckraj1\n",
      "2  ckraj2@example.com   ckraj2\n"
     ]
    }
   ],
   "source": [
    "import pandas as pd\n",
    "data = {'Email': ['ckraj@gmail.com', 'ckraj1@example.com', 'ckraj2@example.com']}\n",
    "df = pd.DataFrame(data)\n",
    "def extract_username(df):    \n",
    "    df['Username'] = df['Email'].str.split('@').str[0]\n",
    "extract_username(df)\n",
    "print(df)"
   ]
  },
  {
   "cell_type": "markdown",
   "id": "060bbc8d-4d06-46df-be80-2490ad1dfb6c",
   "metadata": {},
   "source": [
    "Q8. You have a Pandas DataFrame df with columns 'A', 'B', and 'C'. Write a Python function that selects\n",
    "all rows where the value in column 'A' is greater than 5 and the value in column 'B' is less than 10. The\n",
    "function should return a new DataFrame that contains only the selected rows.\n",
    "For example, if df contains the following values:\n",
    "A B C\n",
    "0 3 5 1\n",
    "1 8 2 7\n",
    "2 6 9 4\n",
    "3 2 3 5\n",
    "4 9 1 2\n",
    "Your function should select the following rows: A B C\n",
    "1 8 2 7\n",
    "4 9 1 2\n",
    "The function should return a new DataFrame that contains only the selected rows."
   ]
  },
  {
   "cell_type": "code",
   "execution_count": 23,
   "id": "752f3c1e-4539-4d19-bf41-d68bad092e6c",
   "metadata": {},
   "outputs": [
    {
     "name": "stdout",
     "output_type": "stream",
     "text": [
      "   A  B  C\n",
      "1  8  2  7\n",
      "2  6  9  4\n",
      "4  9  1  2\n"
     ]
    }
   ],
   "source": [
    "import pandas as pd\n",
    "data = {'A': [3, 8, 6, 2, 9],\n",
    "        'B': [5, 2, 9, 3, 1],\n",
    "        'C': [1, 7, 4, 5, 2]}\n",
    "df = pd.DataFrame(data)\n",
    "def select_rows(df):    \n",
    "    selected_rows = df[(df['A'] > 5) & (df['B'] < 10)]\n",
    "    return selected_rows\n",
    "selected_df = select_rows(df)\n",
    "print(selected_df)"
   ]
  },
  {
   "cell_type": "markdown",
   "id": "8be2f49e-3327-4bd8-a33b-4dc67db54fe3",
   "metadata": {},
   "source": [
    "Q9. Given a Pandas DataFrame df with a column 'Values', write a Python function to calculate the mean,\n",
    "median, and standard deviation of the values in the 'Values' column."
   ]
  },
  {
   "cell_type": "code",
   "execution_count": 24,
   "id": "c6eca868-6a4a-4608-9175-9a1fcc3f6b21",
   "metadata": {},
   "outputs": [
    {
     "name": "stdout",
     "output_type": "stream",
     "text": [
      "Mean: 30.0\n",
      "Median: 30.0\n",
      "Standard Deviation: 15.811388300841896\n"
     ]
    }
   ],
   "source": [
    "import pandas as pd\n",
    "data = {'Values': [10, 20, 30, 40, 50]}\n",
    "df = pd.DataFrame(data)\n",
    "def calculate_statistics(df):\n",
    "    mean = df['Values'].mean()\n",
    "    median = df['Values'].median()\n",
    "    std_dev = df['Values'].std()    \n",
    "    return mean, median, std_dev\n",
    "mean_value, median_value, std_deviation = calculate_statistics(df)\n",
    "print(\"Mean:\", mean_value)\n",
    "print(\"Median:\", median_value)\n",
    "print(\"Standard Deviation:\", std_deviation)"
   ]
  },
  {
   "cell_type": "markdown",
   "id": "f5e03404-7b9a-427d-9c77-347be646f29d",
   "metadata": {},
   "source": [
    "Q10. Given a Pandas DataFrame df with a column 'Sales' and a column 'Date', write a Python function to\n",
    "create a new column 'MovingAverage' that contains the moving average of the sales for the past 7 days\n",
    "for each row in the DataFrame. The moving average should be calculated using a window of size 7 and\n",
    "should include the current day."
   ]
  },
  {
   "cell_type": "code",
   "execution_count": 25,
   "id": "f4473163-4619-4839-ac8f-3fde63dcdda4",
   "metadata": {},
   "outputs": [
    {
     "name": "stdout",
     "output_type": "stream",
     "text": [
      "        Date  Sales  MovingAverage\n",
      "0 2023-08-01    100     100.000000\n",
      "1 2023-08-02    120     110.000000\n",
      "2 2023-08-03    110     110.000000\n",
      "3 2023-08-04     90     105.000000\n",
      "4 2023-08-05     85     101.000000\n",
      "5 2023-08-06     95     100.000000\n",
      "6 2023-08-07    105     100.714286\n",
      "7 2023-08-08    115     102.857143\n",
      "8 2023-08-09    130     104.285714\n"
     ]
    }
   ],
   "source": [
    "import pandas as pd\n",
    "data = {'Date': ['2023-08-01', '2023-08-02', '2023-08-03', '2023-08-04', '2023-08-05', '2023-08-06', '2023-08-07', '2023-08-08', '2023-08-09'],\n",
    "        'Sales': [100, 120, 110, 90, 85, 95, 105, 115, 130]}\n",
    "df = pd.DataFrame(data)\n",
    "def calculate_moving_average(df):\n",
    "    df['Date'] = pd.to_datetime(df['Date']) \n",
    "    df = df.sort_values(by='Date')\n",
    "    df['MovingAverage'] = df['Sales'].rolling(window=7, min_periods=1).mean()    \n",
    "    return df\n",
    "result_df = calculate_moving_average(df)\n",
    "print(result_df)\n"
   ]
  },
  {
   "cell_type": "markdown",
   "id": "755edbbe-d95f-489c-980c-ad1168a5ca97",
   "metadata": {},
   "source": [
    "Q11. You have a Pandas DataFrame df with a column 'Date'. Write a Python function that creates a new\n",
    "column 'Weekday' in the DataFrame. The 'Weekday' column should contain the weekday name (e.g.\n",
    "Monday, Tuesday) corresponding to each date in the 'Date' column.\n",
    "For example, if df contains the following values:\n",
    "Date\n",
    "0 2023-01-01\n",
    "1 2023-01-02\n",
    "2 2023-01-03\n",
    "3 2023-01-04\n",
    "4 2023-01-05\n",
    "Your function should create the following DataFrame:\n",
    "\n",
    "Date Weekday\n",
    "0 2023-01-01 Sunday\n",
    "1 2023-01-02 Monday\n",
    "2 2023-01-03 Tuesday\n",
    "3 2023-01-04 Wednesday\n",
    "4 2023-01-05 Thursday\n",
    "The function should return the modified DataFrame."
   ]
  },
  {
   "cell_type": "code",
   "execution_count": 26,
   "id": "c0da01cb-807d-473f-9820-a44b2b2648f6",
   "metadata": {},
   "outputs": [
    {
     "name": "stdout",
     "output_type": "stream",
     "text": [
      "        Date    Weekday\n",
      "0 2023-01-01     Sunday\n",
      "1 2023-01-02     Monday\n",
      "2 2023-01-03    Tuesday\n",
      "3 2023-01-04  Wednesday\n",
      "4 2023-01-05   Thursday\n"
     ]
    }
   ],
   "source": [
    "import pandas as pd\n",
    "data = {'Date': ['2023-01-01', '2023-01-02', '2023-01-03', '2023-01-04', '2023-01-05']}\n",
    "df = pd.DataFrame(data)\n",
    "def add_weekday_column(df):\n",
    "    df['Date'] = pd.to_datetime(df['Date'])      \n",
    "    df['Weekday'] = df['Date'].dt.strftime('%A')    \n",
    "    return df\n",
    "result_df = add_weekday_column(df)\n",
    "print(result_df)"
   ]
  },
  {
   "cell_type": "markdown",
   "id": "b4dd6889-d21b-4122-b2c2-f0da37318d98",
   "metadata": {},
   "source": [
    "Q12. Given a Pandas DataFrame df with a column 'Date' that contains timestamps, write a Python\n",
    "function to select all rows where the date is between '2023-01-01' and '2023-01-31'."
   ]
  },
  {
   "cell_type": "code",
   "execution_count": 27,
   "id": "e894f6c1-4383-4024-9e8e-2373f3382b13",
   "metadata": {},
   "outputs": [
    {
     "name": "stdout",
     "output_type": "stream",
     "text": [
      "                 Date\n",
      "0 2023-01-05 12:00:00\n",
      "1 2023-01-15 08:30:00\n",
      "3 2023-01-20 14:15:00\n"
     ]
    }
   ],
   "source": [
    "import pandas as pd\n",
    "data = {'Date': ['2023-01-05 12:00:00', '2023-01-15 08:30:00', '2023-02-01 17:45:00', '2023-01-20 14:15:00']}\n",
    "df = pd.DataFrame(data)\n",
    "def select_rows_between_dates(df, start_date, end_date):\n",
    "    df['Date'] = pd.to_datetime(df['Date'])  \n",
    "    selected_rows = df[(df['Date'] >= start_date) & (df['Date'] <= end_date)]    \n",
    "    return selected_rows\n",
    "start_date = pd.to_datetime('2023-01-01')\n",
    "end_date = pd.to_datetime('2023-01-31')\n",
    "selected_df = select_rows_between_dates(df, start_date, end_date)\n",
    "print(selected_df)"
   ]
  },
  {
   "cell_type": "markdown",
   "id": "8fca0199-9885-476a-a055-324be95cf7eb",
   "metadata": {},
   "source": [
    "Q13. To use the basic functions of pandas, what is the first and foremost necessary library that needs to\n",
    "be imported?"
   ]
  },
  {
   "cell_type": "code",
   "execution_count": 28,
   "id": "6e1514cf-923d-4cc9-ad11-2f9907d1429a",
   "metadata": {},
   "outputs": [],
   "source": [
    "\"\"\"To use the basic functions of Pandas, the first and foremost library that needs to be imported is pandas itself.\n",
    "You should import it using the following import statement at the beginning of your Python script or notebook\"\"\"\n",
    "import pandas as pd"
   ]
  },
  {
   "cell_type": "code",
   "execution_count": null,
   "id": "bf2e2c70-5eee-45c3-9fa1-80fd7c6bc376",
   "metadata": {},
   "outputs": [],
   "source": []
  }
 ],
 "metadata": {
  "kernelspec": {
   "display_name": "Python 3 (ipykernel)",
   "language": "python",
   "name": "python3"
  },
  "language_info": {
   "codemirror_mode": {
    "name": "ipython",
    "version": 3
   },
   "file_extension": ".py",
   "mimetype": "text/x-python",
   "name": "python",
   "nbconvert_exporter": "python",
   "pygments_lexer": "ipython3",
   "version": "3.10.8"
  }
 },
 "nbformat": 4,
 "nbformat_minor": 5
}
